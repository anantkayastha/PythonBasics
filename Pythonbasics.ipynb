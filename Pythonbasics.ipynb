{
  "nbformat": 4,
  "nbformat_minor": 0,
  "metadata": {
    "colab": {
      "provenance": []
    },
    "kernelspec": {
      "name": "python3",
      "display_name": "Python 3"
    },
    "language_info": {
      "name": "python"
    }
  },
  "cells": [
    {
      "cell_type": "markdown",
      "source": [
        "#Python Basics\n",
        "\n",
        "1. What is Python, and why is it popular?\n",
        "  - Python is a simple, high-level programming language created by Guido van Rossum in 1991. It's popular because it’s easy to learn, versatile, and works for tasks like web development, data analysis, and AI. Python has many libraries (like NumPy and Django) and is used by big companies like Google and Netflix. Its large community and cross-platform support make it even more reliable.\n",
        "2. What is an interpreter in Python?\n",
        " - An interpreter in Python is a program that reads and executes Python code line by line. It converts the code into machine language that the computer can understand and run. This line-by-line execution makes it easier to debug errors since they are shown immediately as they occur.\n",
        "3. What are pre-defined keywords in Python?\n",
        " - Pre-defined keywords in Python are special words reserved for specific tasks in the language. These words have fixed meanings and cannot be used as names for variables or functions. Examples include 'if', 'else', 'for', 'while', 'True', 'False', 'def', and 'class'.\n",
        "4. Can keywords be used as variable names?\n",
        " - No, keywords cannot be used as variable names in Python because they are reserved for specific tasks and have fixed meanings in the language. Using them as variable names will cause an error.\n",
        "5. What is mutability in Python?\n",
        " - Mutability in Python refers to whether an object’s value can be changed after it is created. - Mutable objects: These can be changed. Examples are lists, dictionaries, and sets. - Immutable objects: These cannot be changed. Examples are strings, tuples, and numbers.\n",
        "6. Why are lists mutable, but tuples are immutable?\n",
        " - Lists are mutable because their elements can be changed, added, or removed after the list is created. Tuples are immutable because once created, their elements can't be changed. This makes tuples more memory-efficient and suitable for fixed data.\n",
        "7. What is the difference between '==' and 'is' operators in Python?\n",
        " - '==' checks if the values of two objects are the same, while 'is' checks if two objects refer to the same memory location. - '==': Compares values. - 'is': Compares identity (memory location).\n",
        "8. What are logical operators in Python?\n",
        " - Logical operators in Python are used to combine conditional statements. The main logical operators are: - `and`: Returns True if both conditions are true. - `or`: Returns True if at least one condition is true. - `not`: Reverses the result of a condition (True becomes False and vice versa).\n",
        "9. What is type casting in Python?\n",
        " - Type casting in Python is the process of converting one data type into another. For example, you can convert an integer to a float or a string to an integer.\n",
        "10. What is the difference between implicit and explicit type casting?\n",
        " - Implicit type casting (also known as coercion) happens automatically by Python when it converts data types. For example, when adding an integer and a float, Python converts the integer to a float. Explicit type casting requires the programmer to convert data types using functions like `int()`, `float()`, or `str()`.\n",
        "11. What is the purpose of conditional statements in Python?\n",
        " - Conditional statements in Python allow the program to make decisions based on certain conditions. They are used to control the flow of execution with `if`, `elif`, and `else` statements.\n",
        "12. How does the elif statement work?\n",
        " - The `elif` statement in Python stands for 'else if'. It allows you to check multiple conditions. If the first `if` condition is false, the program moves to the `elif` conditions and checks if they are true.\n",
        "13. What is the difference between for and while loops?\n",
        " - A `for` loop is used when you know in advance how many times you want to loop through a sequence. A `while` loop runs as long as a given condition is true, and the number of iterations may not be known in advance.\n",
        "14. Describe a scenario where a while loop is more suitable than a for loop.\n",
        " - A `while` loop is more suitable when you don't know the number of iterations in advance and want to repeat a task until a condition is met. For example, you might want to keep asking a user for input until they provide a valid answer.\n"
      ],
      "metadata": {
        "id": "zbYxhCnkXsdy"
      }
    },
    {
      "cell_type": "markdown",
      "source": [
        "# 1. Write a Python program to print \"Hello, World!\""
      ],
      "metadata": {
        "id": "alULvD9ai2yl"
      }
    },
    {
      "cell_type": "code",
      "source": [
        "print(\"Hello, World!\")"
      ],
      "metadata": {
        "colab": {
          "base_uri": "https://localhost:8080/"
        },
        "id": "r2yW9bDKi4IH",
        "outputId": "43bfc5d9-ff8a-436c-8a07-82af98df5027"
      },
      "execution_count": 1,
      "outputs": [
        {
          "output_type": "stream",
          "name": "stdout",
          "text": [
            "Hello, World!\n"
          ]
        }
      ]
    },
    {
      "cell_type": "markdown",
      "source": [
        "# 2. Write a Python program that displays your name and age."
      ],
      "metadata": {
        "id": "Ay2QMgAti6te"
      }
    },
    {
      "cell_type": "code",
      "source": [
        "name = \"Anant\"\n",
        "age = 25\n",
        "print(\"Name:\", name)\n",
        "print(\"Age:\", age)"
      ],
      "metadata": {
        "colab": {
          "base_uri": "https://localhost:8080/"
        },
        "id": "8WDEmYwejGAs",
        "outputId": "cc89ed3e-f11a-440d-d4cc-288cd93fc7f9"
      },
      "execution_count": 3,
      "outputs": [
        {
          "output_type": "stream",
          "name": "stdout",
          "text": [
            "Name: Anant\n",
            "Age: 25\n"
          ]
        }
      ]
    },
    {
      "cell_type": "markdown",
      "source": [
        "# 3. Write code to print all the pre-defined keywords in Python using the keyword library."
      ],
      "metadata": {
        "id": "To9sEpvcjVT3"
      }
    },
    {
      "cell_type": "code",
      "source": [
        "import keyword\n",
        "print(\"Python Keywords:\", keyword.kwlist)"
      ],
      "metadata": {
        "colab": {
          "base_uri": "https://localhost:8080/"
        },
        "id": "TpWf-FRqjWPs",
        "outputId": "998967ea-2257-4c68-eae8-c96b2726b209"
      },
      "execution_count": 4,
      "outputs": [
        {
          "output_type": "stream",
          "name": "stdout",
          "text": [
            "Python Keywords: ['False', 'None', 'True', 'and', 'as', 'assert', 'async', 'await', 'break', 'class', 'continue', 'def', 'del', 'elif', 'else', 'except', 'finally', 'for', 'from', 'global', 'if', 'import', 'in', 'is', 'lambda', 'nonlocal', 'not', 'or', 'pass', 'raise', 'return', 'try', 'while', 'with', 'yield']\n"
          ]
        }
      ]
    },
    {
      "cell_type": "markdown",
      "source": [
        "# 4. Write a program that checks if a given word is a Python keyword."
      ],
      "metadata": {
        "id": "JsJCKkyTjZ5c"
      }
    },
    {
      "cell_type": "code",
      "source": [
        "word = input(\"Enter a word: \")\n",
        "if keyword.iskeyword(word):\n",
        "    print(f\"'{word}' is a Python keyword.\")\n",
        "else:\n",
        "    print(f\"'{word}' is not a Python keyword.\")"
      ],
      "metadata": {
        "colab": {
          "base_uri": "https://localhost:8080/"
        },
        "id": "v6LSbbwWjcq3",
        "outputId": "79809c46-80c0-4512-c728-c77adcfedb59"
      },
      "execution_count": 5,
      "outputs": [
        {
          "output_type": "stream",
          "name": "stdout",
          "text": [
            "Enter a word: we\n",
            "'we' is not a Python keyword.\n"
          ]
        }
      ]
    },
    {
      "cell_type": "markdown",
      "source": [
        "\n",
        "# 5. Create a list and tuple in Python, and demonstrate how attempting to change an element works differently for each."
      ],
      "metadata": {
        "id": "qNJHrJ43jfQf"
      }
    },
    {
      "cell_type": "code",
      "source": [
        "my_list = [1, 2, 3]\n",
        "my_tuple = (1, 2, 3)\n",
        "\n",
        "# Modifying the list\n",
        "my_list[0] = 10\n",
        "print(\"Modified List:\", my_list)\n",
        "\n",
        "# Attempting to modify the tuple\n",
        "try:\n",
        "    my_tuple[0] = 10\n",
        "except TypeError as e:\n",
        "    print(\"Error:\", e)"
      ],
      "metadata": {
        "colab": {
          "base_uri": "https://localhost:8080/"
        },
        "id": "L-zuUm3njgML",
        "outputId": "2deb87dd-616d-4624-ff12-4b69147a6690"
      },
      "execution_count": 6,
      "outputs": [
        {
          "output_type": "stream",
          "name": "stdout",
          "text": [
            "Modified List: [10, 2, 3]\n",
            "Error: 'tuple' object does not support item assignment\n"
          ]
        }
      ]
    },
    {
      "cell_type": "markdown",
      "source": [
        "\n",
        "# 6. Write a function to demonstrate the behavior of mutable and immutable arguments."
      ],
      "metadata": {
        "id": "lXLimd-Pjlim"
      }
    },
    {
      "cell_type": "code",
      "source": [
        "def modify_args(a_list, a_string):\n",
        "    a_list.append(100)  # Modifying the list (mutable)\n",
        "    a_string += \" World\"  # Modifying the string (immutable)\n",
        "    return a_list, a_string\n",
        "\n",
        "mutable_list = [1, 2, 3]\n",
        "immutable_string = \"Hello\"\n",
        "result = modify_args(mutable_list, immutable_string)\n",
        "print(\"Modified List:\", result[0])\n",
        "print(\"Modified String:\", result[1])"
      ],
      "metadata": {
        "colab": {
          "base_uri": "https://localhost:8080/"
        },
        "id": "WUDsTX9pjn_2",
        "outputId": "9109de96-51e7-40ac-848e-277ab45b5793"
      },
      "execution_count": 7,
      "outputs": [
        {
          "output_type": "stream",
          "name": "stdout",
          "text": [
            "Modified List: [1, 2, 3, 100]\n",
            "Modified String: Hello World\n"
          ]
        }
      ]
    },
    {
      "cell_type": "markdown",
      "source": [
        "# 7. (Same Question as 6 no question)"
      ],
      "metadata": {
        "id": "KccNkZAujr3Y"
      }
    },
    {
      "cell_type": "markdown",
      "source": [
        "# 8. Write a program to demonstrate the use of logical operators."
      ],
      "metadata": {
        "id": "-hu92xRNjtNE"
      }
    },
    {
      "cell_type": "code",
      "source": [
        "a = 10\n",
        "b = 20\n",
        "print(\"a > 5 and b > 15:\", a > 5 and b > 15)\n",
        "print(\"a < 5 or b > 15:\", a < 5 or b > 15)\n",
        "print(\"not(a > 5):\", not(a > 5))"
      ],
      "metadata": {
        "colab": {
          "base_uri": "https://localhost:8080/"
        },
        "id": "xMtHYlijjrit",
        "outputId": "84f0c17d-5a32-4880-dc8c-b0885e04fb0a"
      },
      "execution_count": 8,
      "outputs": [
        {
          "output_type": "stream",
          "name": "stdout",
          "text": [
            "a > 5 and b > 15: True\n",
            "a < 5 or b > 15: True\n",
            "not(a > 5): False\n"
          ]
        }
      ]
    },
    {
      "cell_type": "markdown",
      "source": [
        "# 9. Write a Python program to convert user input from string to integer, float, and boolean types."
      ],
      "metadata": {
        "id": "1wqX1dtrj1ym"
      }
    },
    {
      "cell_type": "code",
      "source": [
        "data = input(\"Enter something: \")\n",
        "print(\"As Integer:\", int(data))\n",
        "print(\"As Float:\", float(data))\n",
        "print(\"As Boolean:\", bool(data))"
      ],
      "metadata": {
        "colab": {
          "base_uri": "https://localhost:8080/",
          "height": 339
        },
        "id": "nLgDPpjmj5IL",
        "outputId": "c3456681-335c-4aae-a1db-ce68a9451734"
      },
      "execution_count": 11,
      "outputs": [
        {
          "output_type": "error",
          "ename": "KeyboardInterrupt",
          "evalue": "Interrupted by user",
          "traceback": [
            "\u001b[0;31m---------------------------------------------------------------------------\u001b[0m",
            "\u001b[0;31mKeyboardInterrupt\u001b[0m                         Traceback (most recent call last)",
            "\u001b[0;32m<ipython-input-11-3157acb81bad>\u001b[0m in \u001b[0;36m<cell line: 1>\u001b[0;34m()\u001b[0m\n\u001b[0;32m----> 1\u001b[0;31m \u001b[0mdata\u001b[0m \u001b[0;34m=\u001b[0m \u001b[0minput\u001b[0m\u001b[0;34m(\u001b[0m\u001b[0;34m\"Enter something: \"\u001b[0m\u001b[0;34m)\u001b[0m\u001b[0;34m\u001b[0m\u001b[0;34m\u001b[0m\u001b[0m\n\u001b[0m\u001b[1;32m      2\u001b[0m \u001b[0mprint\u001b[0m\u001b[0;34m(\u001b[0m\u001b[0;34m\"As Integer:\"\u001b[0m\u001b[0;34m,\u001b[0m \u001b[0mint\u001b[0m\u001b[0;34m(\u001b[0m\u001b[0mdata\u001b[0m\u001b[0;34m)\u001b[0m\u001b[0;34m)\u001b[0m\u001b[0;34m\u001b[0m\u001b[0;34m\u001b[0m\u001b[0m\n\u001b[1;32m      3\u001b[0m \u001b[0mprint\u001b[0m\u001b[0;34m(\u001b[0m\u001b[0;34m\"As Float:\"\u001b[0m\u001b[0;34m,\u001b[0m \u001b[0mfloat\u001b[0m\u001b[0;34m(\u001b[0m\u001b[0mdata\u001b[0m\u001b[0;34m)\u001b[0m\u001b[0;34m)\u001b[0m\u001b[0;34m\u001b[0m\u001b[0;34m\u001b[0m\u001b[0m\n\u001b[1;32m      4\u001b[0m \u001b[0mprint\u001b[0m\u001b[0;34m(\u001b[0m\u001b[0;34m\"As Boolean:\"\u001b[0m\u001b[0;34m,\u001b[0m \u001b[0mbool\u001b[0m\u001b[0;34m(\u001b[0m\u001b[0mdata\u001b[0m\u001b[0;34m)\u001b[0m\u001b[0;34m)\u001b[0m\u001b[0;34m\u001b[0m\u001b[0;34m\u001b[0m\u001b[0m\n",
            "\u001b[0;32m/usr/local/lib/python3.10/dist-packages/ipykernel/kernelbase.py\u001b[0m in \u001b[0;36mraw_input\u001b[0;34m(self, prompt)\u001b[0m\n\u001b[1;32m    849\u001b[0m                 \u001b[0;34m\"raw_input was called, but this frontend does not support input requests.\"\u001b[0m\u001b[0;34m\u001b[0m\u001b[0;34m\u001b[0m\u001b[0m\n\u001b[1;32m    850\u001b[0m             )\n\u001b[0;32m--> 851\u001b[0;31m         return self._input_request(str(prompt),\n\u001b[0m\u001b[1;32m    852\u001b[0m             \u001b[0mself\u001b[0m\u001b[0;34m.\u001b[0m\u001b[0m_parent_ident\u001b[0m\u001b[0;34m,\u001b[0m\u001b[0;34m\u001b[0m\u001b[0;34m\u001b[0m\u001b[0m\n\u001b[1;32m    853\u001b[0m             \u001b[0mself\u001b[0m\u001b[0;34m.\u001b[0m\u001b[0m_parent_header\u001b[0m\u001b[0;34m,\u001b[0m\u001b[0;34m\u001b[0m\u001b[0;34m\u001b[0m\u001b[0m\n",
            "\u001b[0;32m/usr/local/lib/python3.10/dist-packages/ipykernel/kernelbase.py\u001b[0m in \u001b[0;36m_input_request\u001b[0;34m(self, prompt, ident, parent, password)\u001b[0m\n\u001b[1;32m    893\u001b[0m             \u001b[0;32mexcept\u001b[0m \u001b[0mKeyboardInterrupt\u001b[0m\u001b[0;34m:\u001b[0m\u001b[0;34m\u001b[0m\u001b[0;34m\u001b[0m\u001b[0m\n\u001b[1;32m    894\u001b[0m                 \u001b[0;31m# re-raise KeyboardInterrupt, to truncate traceback\u001b[0m\u001b[0;34m\u001b[0m\u001b[0;34m\u001b[0m\u001b[0m\n\u001b[0;32m--> 895\u001b[0;31m                 \u001b[0;32mraise\u001b[0m \u001b[0mKeyboardInterrupt\u001b[0m\u001b[0;34m(\u001b[0m\u001b[0;34m\"Interrupted by user\"\u001b[0m\u001b[0;34m)\u001b[0m \u001b[0;32mfrom\u001b[0m \u001b[0;32mNone\u001b[0m\u001b[0;34m\u001b[0m\u001b[0;34m\u001b[0m\u001b[0m\n\u001b[0m\u001b[1;32m    896\u001b[0m             \u001b[0;32mexcept\u001b[0m \u001b[0mException\u001b[0m \u001b[0;32mas\u001b[0m \u001b[0me\u001b[0m\u001b[0;34m:\u001b[0m\u001b[0;34m\u001b[0m\u001b[0;34m\u001b[0m\u001b[0m\n\u001b[1;32m    897\u001b[0m                 \u001b[0mself\u001b[0m\u001b[0;34m.\u001b[0m\u001b[0mlog\u001b[0m\u001b[0;34m.\u001b[0m\u001b[0mwarning\u001b[0m\u001b[0;34m(\u001b[0m\u001b[0;34m\"Invalid Message:\"\u001b[0m\u001b[0;34m,\u001b[0m \u001b[0mexc_info\u001b[0m\u001b[0;34m=\u001b[0m\u001b[0;32mTrue\u001b[0m\u001b[0;34m)\u001b[0m\u001b[0;34m\u001b[0m\u001b[0;34m\u001b[0m\u001b[0m\n",
            "\u001b[0;31mKeyboardInterrupt\u001b[0m: Interrupted by user"
          ]
        }
      ]
    },
    {
      "cell_type": "markdown",
      "source": [
        "\n",
        "# 10. Write code to demonstrate type casting with list elements."
      ],
      "metadata": {
        "id": "vNms1g-Gj7lQ"
      }
    },
    {
      "cell_type": "code",
      "source": [
        "string_list = [\"1\", \"2\", \"3\"]\n",
        "int_list = [int(x) for x in string_list]\n",
        "print(\"Integer List:\", int_list)"
      ],
      "metadata": {
        "colab": {
          "base_uri": "https://localhost:8080/"
        },
        "id": "pyk9vWAoj-dd",
        "outputId": "52d53cd5-40a3-4b7d-fd1b-332d66ac245c"
      },
      "execution_count": 12,
      "outputs": [
        {
          "output_type": "stream",
          "name": "stdout",
          "text": [
            "Integer List: [1, 2, 3]\n"
          ]
        }
      ]
    },
    {
      "cell_type": "markdown",
      "source": [
        "\n",
        "# 11. Write a program that checks if a number is positive, negative, or zero."
      ],
      "metadata": {
        "id": "86qe-AnTkDqI"
      }
    },
    {
      "cell_type": "code",
      "source": [
        "num = int(input(\"Enter a number: \"))\n",
        "if num > 0:\n",
        "    print(\"Positive\")\n",
        "elif num < 0:\n",
        "    print(\"Negative\")\n",
        "else:\n",
        "    print(\"Zero\")"
      ],
      "metadata": {
        "colab": {
          "base_uri": "https://localhost:8080/"
        },
        "id": "Vhd8zqEekL2t",
        "outputId": "eeeb8a51-1de5-4ea4-f445-2256d6c913ff"
      },
      "execution_count": 13,
      "outputs": [
        {
          "output_type": "stream",
          "name": "stdout",
          "text": [
            "Enter a number: 25\n",
            "Positive\n"
          ]
        }
      ]
    },
    {
      "cell_type": "markdown",
      "source": [
        "\n",
        "# 12. Write a for loop to print numbers from 1 to 10."
      ],
      "metadata": {
        "id": "XIkQBxdYkPMt"
      }
    },
    {
      "cell_type": "code",
      "source": [
        "for i in range(1, 11):\n",
        "    print(i)"
      ],
      "metadata": {
        "colab": {
          "base_uri": "https://localhost:8080/"
        },
        "id": "kv6LWblykSWY",
        "outputId": "341f5a41-62d0-4803-bfff-abb8dae4c3a2"
      },
      "execution_count": 14,
      "outputs": [
        {
          "output_type": "stream",
          "name": "stdout",
          "text": [
            "1\n",
            "2\n",
            "3\n",
            "4\n",
            "5\n",
            "6\n",
            "7\n",
            "8\n",
            "9\n",
            "10\n"
          ]
        }
      ]
    },
    {
      "cell_type": "markdown",
      "source": [
        "\n",
        "# 13. Write a Python program to find the sum of all even numbers between 1 and 50."
      ],
      "metadata": {
        "id": "64FCAQB4kVUr"
      }
    },
    {
      "cell_type": "code",
      "source": [
        "\n",
        "sum_even = sum(i for i in range(1, 51) if i % 2 == 0)\n",
        "print(\"Sum of even numbers between 1 and 50:\", sum_even)"
      ],
      "metadata": {
        "colab": {
          "base_uri": "https://localhost:8080/"
        },
        "id": "igGZbrUVkYSz",
        "outputId": "9053510c-b128-43c9-967a-8d5413895f0a"
      },
      "execution_count": 15,
      "outputs": [
        {
          "output_type": "stream",
          "name": "stdout",
          "text": [
            "Sum of even numbers between 1 and 50: 650\n"
          ]
        }
      ]
    },
    {
      "cell_type": "markdown",
      "source": [
        "\n",
        "# 14. Write a program to reverse a string using a while loop."
      ],
      "metadata": {
        "id": "xJKPw3QNkbTT"
      }
    },
    {
      "cell_type": "code",
      "source": [
        "string = input(\"Enter a string: \")\n",
        "reversed_string = \"\"\n",
        "index = len(string) - 1\n",
        "while index >= 0:\n",
        "    reversed_string += string[index]\n",
        "    index -= 1\n",
        "print(\"Reversed String:\", reversed_string)"
      ],
      "metadata": {
        "colab": {
          "base_uri": "https://localhost:8080/"
        },
        "id": "i8Me54rtkeme",
        "outputId": "4da57e8f-d3ce-44cb-d496-a89fd8e649df"
      },
      "execution_count": 16,
      "outputs": [
        {
          "output_type": "stream",
          "name": "stdout",
          "text": [
            "Enter a string: 25\n",
            "Reversed String: 52\n"
          ]
        }
      ]
    },
    {
      "cell_type": "markdown",
      "source": [
        "\n",
        "# 15. Write a Python program to calculate the factorial of a number provided by the user using a while loop."
      ],
      "metadata": {
        "id": "cZAA8ekykhQd"
      }
    },
    {
      "cell_type": "code",
      "source": [
        "\n",
        "num = int(input(\"Enter a number to find its factorial: \"))\n",
        "factorial = 1\n",
        "while num > 0:\n",
        "    factorial *= num\n",
        "    num -= 1\n",
        "print(\"Factorial:\", factorial)\n"
      ],
      "metadata": {
        "colab": {
          "base_uri": "https://localhost:8080/"
        },
        "id": "l7dZmp09kFgz",
        "outputId": "662353e3-6fee-44e7-8fd7-918ab3a2e742"
      },
      "execution_count": 17,
      "outputs": [
        {
          "output_type": "stream",
          "name": "stdout",
          "text": [
            "Enter a number to find its factorial: 225\n",
            "Factorial: 12593608545945996091036028947807033464712366100830310947884859323613908580199395683862487531069487476500759701742192535344540854068853669052295055299098464766181717162302204661624767827958051743017494348399489978246897042654475510812669519495908783832931264982964624146608320873210374164407022003675327475326979217376341678305184952924264841312344768880440433971238502679256760320000000000000000000000000000000000000000000000000000000\n"
          ]
        }
      ]
    }
  ]
}